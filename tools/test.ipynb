{
 "cells": [
  {
   "cell_type": "code",
   "execution_count": 29,
   "metadata": {},
   "outputs": [
    {
     "data": {
      "text/plain": [
       "('Oct 30, 2022', 'Nov 06, 2022')"
      ]
     },
     "execution_count": 29,
     "metadata": {},
     "output_type": "execute_result"
    }
   ],
   "source": [
    "import datetime\n",
    "SUNDAY_WEEKDAY = 6\n",
    "DAYS_IN_A_WEEK = 7\n",
    "\n",
    "today = datetime.date.today() +  datetime.timedelta(0)\n",
    "start_date = today + datetime.timedelta( (SUNDAY_WEEKDAY-today.weekday()-1) % DAYS_IN_A_WEEK+1 )\n",
    "today.strftime(\"%b %d, %Y\"), start_date.strftime(\"%b %d, %Y\")"
   ]
  }
 ],
 "metadata": {
  "kernelspec": {
   "display_name": "Python 3.9.9 64-bit",
   "language": "python",
   "name": "python3"
  },
  "language_info": {
   "codemirror_mode": {
    "name": "ipython",
    "version": 3
   },
   "file_extension": ".py",
   "mimetype": "text/x-python",
   "name": "python",
   "nbconvert_exporter": "python",
   "pygments_lexer": "ipython3",
   "version": "3.9.9"
  },
  "orig_nbformat": 4,
  "vscode": {
   "interpreter": {
    "hash": "727eb97f1d4ad6a9bb9f28d84ded433cefe78b6c33bab7821debb68a4d743277"
   }
  }
 },
 "nbformat": 4,
 "nbformat_minor": 2
}
