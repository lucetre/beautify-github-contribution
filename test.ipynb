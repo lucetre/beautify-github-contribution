{
 "cells": [
  {
   "cell_type": "code",
   "execution_count": 2,
   "metadata": {},
   "outputs": [],
   "source": [
    "import os\n",
    "import datetime\n",
    "import pickle\n",
    "\n",
    "os.environ['CONTRIBUTOR'] = 'linkedart-snu'\n",
    "CONTRIBUTOR = os.getenv('CONTRIBUTOR')\n",
    "DAYS_IN_A_WEEK = 7\n",
    "\n",
    "def update_contribution(curr_date=datetime.datetime.today(), contribute=False):\n",
    "    DIR = curr_date.strftime(\"scheduler/%Y/%m/%d\")\n",
    "    FILEPATH = f\"{DIR}/CONTRIBUTORS\"\n",
    "    os.path.isdir(DIR) or os.makedirs(DIR)\n",
    "\n",
    "    if not os.path.isfile(FILEPATH):\n",
    "        open(FILEPATH, 'a').close()\n",
    "    \n",
    "    with open(FILEPATH, \"r+\") as f:\n",
    "        lines = f.readlines()\n",
    "        contributor = f'{CONTRIBUTOR}\\n'\n",
    "        try:\n",
    "            lines.index(contributor)\n",
    "            if contribute: return\n",
    "            lines.remove(contributor)\n",
    "            f.seek(0)\n",
    "            f.truncate()\n",
    "            f.writelines(lines)\n",
    "        except ValueError:\n",
    "            if not contribute: return\n",
    "            f.write(contributor)\n",
    "\n",
    "update_contribution(contribute=True)\n",
    "\n",
    "# with open(\"tools/contribution/data.pkl\", \"rb\") as f:\n",
    "#     data = pickle.load(f)\n",
    "\n",
    "# contribution_graph = data[\"contribution_graph\"]\n",
    "# init_date = data[\"init_date\"]\n",
    "\n",
    "# for i in range(DAYS_IN_A_WEEK):\n",
    "#     for j in range(len(contribution_graph[i])):\n",
    "#         curr_date = init_date + datetime.timedelta(i + j*DAYS_IN_A_WEEK)\n",
    "#         if contribution_graph[i][j] == '1':\n",
    "#             update_contribution(curr_date, True)\n",
    "#         else:\n",
    "#             update_contribution(curr_date, False)\n",
    "#         print(contribution_graph[i][j], end='')\n",
    "#     print()"
   ]
  },
  {
   "cell_type": "code",
   "execution_count": 2,
   "metadata": {},
   "outputs": [
    {
     "name": "stdout",
     "output_type": "stream",
     "text": [
      "Defaulting to user installation because normal site-packages is not writeable\n",
      "Collecting pynacl\n",
      "  Downloading PyNaCl-1.5.0-cp36-abi3-macosx_10_10_universal2.whl (349 kB)\n",
      "\u001b[K     |████████████████████████████████| 349 kB 7.4 MB/s eta 0:00:01\n",
      "\u001b[?25hRequirement already satisfied: cffi>=1.4.1 in /Users/moloco/Library/Python/3.9/lib/python/site-packages (from pynacl) (1.15.1)\n",
      "Requirement already satisfied: pycparser in /Users/moloco/Library/Python/3.9/lib/python/site-packages (from cffi>=1.4.1->pynacl) (2.21)\n",
      "Installing collected packages: pynacl\n",
      "Successfully installed pynacl-1.5.0\n",
      "\u001b[33mWARNING: You are using pip version 21.2.4; however, version 22.3.1 is available.\n",
      "You should consider upgrading via the '/Library/Developer/CommandLineTools/usr/bin/python3 -m pip install --upgrade pip' command.\u001b[0m\n",
      "Note: you may need to restart the kernel to use updated packages.\n"
     ]
    }
   ],
   "source": [
    "%pip install pynacl"
   ]
  },
  {
   "cell_type": "code",
   "execution_count": 3,
   "metadata": {},
   "outputs": [],
   "source": [
    "from base64 import b64encode\n",
    "from nacl import encoding, public\n",
    "\n",
    "def encrypt(public_key: str, secret_value: str) -> str:\n",
    "  \"\"\"Encrypt a Unicode string using the public key.\"\"\"\n",
    "  public_key = public.PublicKey(public_key.encode(\"utf-8\"), encoding.Base64Encoder())\n",
    "  sealed_box = public.SealedBox(public_key)\n",
    "  encrypted = sealed_box.encrypt(secret_value.encode(\"utf-8\"))\n",
    "  return b64encode(encrypted).decode(\"utf-8\")"
   ]
  },
  {
   "cell_type": "code",
   "execution_count": 17,
   "metadata": {},
   "outputs": [
    {
     "data": {
      "text/plain": [
       "'NCnnLOcc/4OHZhlQY0UI4Vr/VWriKA8qlQ4pM/kolwcxDTlQpTW9t/QDKbX0QH+yCEL+zLk='"
      ]
     },
     "execution_count": 17,
     "metadata": {},
     "output_type": "execute_result"
    }
   ],
   "source": [
    "encrypt(\"aHtiepsf91/OU5AyVlsioFXo/bmOVJ9dqt1o6IMIWzE=\", \"hellop\")"
   ]
  },
  {
   "cell_type": "code",
   "execution_count": null,
   "metadata": {},
   "outputs": [],
   "source": []
  }
 ],
 "metadata": {
  "kernelspec": {
   "display_name": "Python 3.9.6 64-bit",
   "language": "python",
   "name": "python3"
  },
  "language_info": {
   "codemirror_mode": {
    "name": "ipython",
    "version": 3
   },
   "file_extension": ".py",
   "mimetype": "text/x-python",
   "name": "python",
   "nbconvert_exporter": "python",
   "pygments_lexer": "ipython3",
   "version": "3.9.6"
  },
  "orig_nbformat": 4,
  "vscode": {
   "interpreter": {
    "hash": "31f2aee4e71d21fbe5cf8b01ff0e069b9275f58929596ceb00d14d90e3e16cd6"
   }
  }
 },
 "nbformat": 4,
 "nbformat_minor": 2
}
