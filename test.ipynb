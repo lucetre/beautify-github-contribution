{
 "cells": [
  {
   "cell_type": "code",
   "execution_count": 2,
   "metadata": {},
   "outputs": [],
   "source": [
    "import os\n",
    "import datetime\n",
    "import pickle\n",
    "\n",
    "os.environ['CONTRIBUTOR'] = 'linkedart-snu'\n",
    "CONTRIBUTOR = os.getenv('CONTRIBUTOR')\n",
    "DAYS_IN_A_WEEK = 7\n",
    "\n",
    "def update_contribution(curr_date=datetime.datetime.today(), contribute=False):\n",
    "    DIR = curr_date.strftime(\"scheduler/%Y/%m/%d\")\n",
    "    FILEPATH = f\"{DIR}/CONTRIBUTORS\"\n",
    "    os.path.isdir(DIR) or os.makedirs(DIR)\n",
    "\n",
    "    if not os.path.isfile(FILEPATH):\n",
    "        open(FILEPATH, 'a').close()\n",
    "    \n",
    "    with open(FILEPATH, \"r+\") as f:\n",
    "        lines = f.readlines()\n",
    "        contributor = f'{CONTRIBUTOR}\\n'\n",
    "        try:\n",
    "            lines.index(contributor)\n",
    "            if contribute: return\n",
    "            lines.remove(contributor)\n",
    "            f.seek(0)\n",
    "            f.truncate()\n",
    "            f.writelines(lines)\n",
    "        except ValueError:\n",
    "            if not contribute: return\n",
    "            f.write(contributor)\n",
    "\n",
    "update_contribution(contribute=True)\n",
    "\n",
    "# with open(\"tools/contribution/data.pkl\", \"rb\") as f:\n",
    "#     data = pickle.load(f)\n",
    "\n",
    "# contribution_graph = data[\"contribution_graph\"]\n",
    "# init_date = data[\"init_date\"]\n",
    "\n",
    "# for i in range(DAYS_IN_A_WEEK):\n",
    "#     for j in range(len(contribution_graph[i])):\n",
    "#         curr_date = init_date + datetime.timedelta(i + j*DAYS_IN_A_WEEK)\n",
    "#         if contribution_graph[i][j] == '1':\n",
    "#             update_contribution(curr_date, True)\n",
    "#         else:\n",
    "#             update_contribution(curr_date, False)\n",
    "#         print(contribution_graph[i][j], end='')\n",
    "#     print()"
   ]
  }
 ],
 "metadata": {
  "kernelspec": {
   "display_name": "Python 3.9.9 64-bit",
   "language": "python",
   "name": "python3"
  },
  "language_info": {
   "codemirror_mode": {
    "name": "ipython",
    "version": 3
   },
   "file_extension": ".py",
   "mimetype": "text/x-python",
   "name": "python",
   "nbconvert_exporter": "python",
   "pygments_lexer": "ipython3",
   "version": "3.9.9"
  },
  "orig_nbformat": 4,
  "vscode": {
   "interpreter": {
    "hash": "727eb97f1d4ad6a9bb9f28d84ded433cefe78b6c33bab7821debb68a4d743277"
   }
  }
 },
 "nbformat": 4,
 "nbformat_minor": 2
}
